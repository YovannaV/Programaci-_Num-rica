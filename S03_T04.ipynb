{
 "cells": [
  {
   "cell_type": "markdown",
   "id": "23d47c7a",
   "metadata": {},
   "source": [
    "# Programación Numérica a través de la librería NumPy.\n",
    "___"
   ]
  },
  {
   "cell_type": "markdown",
   "id": "4471411d",
   "metadata": {},
   "source": [
    "## Ejercicio 1\n",
    "Crea una función que dado un Array de una dimensión, te haga un resumen estadístico básico de los datos. Si detecta que el array tiene más de una dimensión, debe mostrar un mensaje de error.\n",
    "\n"
   ]
  },
  {
   "cell_type": "code",
   "execution_count": 1,
   "id": "b98b257f",
   "metadata": {},
   "outputs": [],
   "source": [
    "import numpy as np #importa la libreria numpy"
   ]
  },
  {
   "cell_type": "markdown",
   "id": "b09211eb",
   "metadata": {},
   "source": [
    "Se define la funcion que contendra las operaciones estadisticas basicas para calcular en un 'array' dado por el usuario, \n",
    "- Siempre y cuando tenga una sola dimension, para lo cual se genera un condicional if, y si se cumple con la condicion se generara el resumen. \n",
    "- Entre los calculos se han incluido: la media, la mediana, el minimo, el maximo, la desviacion estandar y la varianza de los datos. \n",
    "- Finalmente se da la instruccion de imprimir el resumen.\n",
    "- Si el array tiene mas de una dimension se imprimira un mensaje expresando que el formato es incorrecto."
   ]
  },
  {
   "cell_type": "code",
   "execution_count": 14,
   "id": "9630ba5c",
   "metadata": {},
   "outputs": [],
   "source": [
    "def statistic(array): #definicion de la funcion\n",
    "    if array.ndim ==1: #cndicional a 1 dimension\n",
    "        mean = np.mean(array)\n",
    "        median = np.median(array)\n",
    "        min = np.amin(array)\n",
    "        max = np.amax(array)\n",
    "        \n",
    "        std = round(np.std(array), 2) #se redondea para tener solo 2 decimales\n",
    "        variance = np.var(array)\n",
    "\n",
    "        statistic_resume = \"El resumen estadistico del conjunto de datos es:\\n Media es {},\\n Mediana es {},\\n Minimo es {},\\n Maximo es {},\\n Desviacion estandar es {},\\n Varianza es {}\"\n",
    "        print(statistic_resume.format(mean,median,min,max,std,variance))\n",
    "    else:\n",
    "        print('Error: el array no es correcto')"
   ]
  },
  {
   "cell_type": "markdown",
   "id": "c2518f19",
   "metadata": {},
   "source": [
    "Ahora, se prueba la condicion en un array de una dimension, primero generando el array y espues llamando a la funcion:"
   ]
  },
  {
   "cell_type": "code",
   "execution_count": 15,
   "id": "744590f9",
   "metadata": {},
   "outputs": [
    {
     "name": "stdout",
     "output_type": "stream",
     "text": [
      "El resumen estadistico del conjunto de datos es:\n",
      " Media es 16.25,\n",
      " Mediana es 15.5,\n",
      " Minimo es 8,\n",
      " Maximo es 25,\n",
      " Desviacion estandar es 5.89,\n",
      " Varianza es 34.6875\n"
     ]
    }
   ],
   "source": [
    "array_n1 = np.array([10,15,20,25,8,12,16,24]) #genera array\n",
    "statistic(array_n1) #llama a la funcion con el parametro de entrada del array creado"
   ]
  },
  {
   "cell_type": "markdown",
   "id": "bacc2161",
   "metadata": {},
   "source": [
    "El array tiene una sola dimension, lo que cumple el condicional y, por lo tanto, se genera el resumen estadistico."
   ]
  },
  {
   "cell_type": "code",
   "execution_count": 17,
   "id": "05164cca",
   "metadata": {},
   "outputs": [
    {
     "name": "stdout",
     "output_type": "stream",
     "text": [
      "Error: el array no es correcto\n"
     ]
    }
   ],
   "source": [
    "array_n2= np.array([[1,2,3],[4,5,6]]) #se genera el array\n",
    "statistic(array_n2) #se llama a la funcion"
   ]
  },
  {
   "cell_type": "markdown",
   "id": "d926b24f",
   "metadata": {},
   "source": [
    "Se prueba una vez mas la funcion en un array de dos dimensiones, y se puede observar el error generado que fue definido dentro de la funcion "
   ]
  },
  {
   "cell_type": "markdown",
   "id": "43e81960",
   "metadata": {},
   "source": [
    "## Ejercicio 2\n",
    "Crea una función que genere un cuadrado NxN de números aleatorios entre el 0 y el 100.\n",
    "\n"
   ]
  },
  {
   "cell_type": "markdown",
   "id": "54f844a3",
   "metadata": {},
   "source": [
    "Se define la funcion que toma como parametros dos numeros que indicaran la forma de la matriz, dentro de la funcion con se utiliza la funcion random y se especifica que el numero maximo es de 100 y la forma que tendra el array."
   ]
  },
  {
   "cell_type": "code",
   "execution_count": 20,
   "id": "2455ade6",
   "metadata": {},
   "outputs": [],
   "source": [
    "def arr_random(x,y): #se define la funcion que requiere dos parametros para la forma\n",
    "    np.random.randint(100, size=(x, y)) #genera array \n",
    "    print(array)"
   ]
  },
  {
   "cell_type": "markdown",
   "id": "0a2f8eea",
   "metadata": {},
   "source": [
    "Se utiliza la funcion indicando los parametros de la forma, en este caso cuadrada, y se llama a la funcion para generar el array."
   ]
  },
  {
   "cell_type": "code",
   "execution_count": 22,
   "id": "b822b9ce",
   "metadata": {},
   "outputs": [
    {
     "name": "stdout",
     "output_type": "stream",
     "text": [
      "[[84 63 79  3 52]\n",
      " [20 42 18 33 62]\n",
      " [67  3 45 34 22]\n",
      " [63  5 32 87 47]\n",
      " [99 11 16 96 66]]\n"
     ]
    }
   ],
   "source": [
    "x = 5\n",
    "y = 5\n",
    "arr_random(x,y) #se llama a la funcion"
   ]
  },
  {
   "cell_type": "markdown",
   "id": "128363d6",
   "metadata": {},
   "source": [
    "## Ejercicio 3\n",
    "Crea una función que dada una tabla de dos dimensiones, te calcule los totales por fila y los totales por columna.\n",
    "\n"
   ]
  },
  {
   "cell_type": "markdown",
   "id": "482dd67f",
   "metadata": {},
   "source": [
    "Se genera la funcion que toma como parametro un array dado, dentro de la funcion se genera un condicional para comprobar que el array tenga dos dimensiones y se utiliza la funcion suma para generar la suma de las columnas y de las filas y se imprimen."
   ]
  },
  {
   "cell_type": "code",
   "execution_count": 31,
   "id": "b2f155c9",
   "metadata": {},
   "outputs": [],
   "source": [
    "def totales (array): #definicion de funcion\n",
    "    if array.ndim ==2: #condicional\n",
    "        print(\"Suma de las columnas): \", np.sum(array, axis = 0)) #suma de columnas\n",
    "        print(\"Suma de las filas: \", np.sum(array, axis = 1)) #suma de filas"
   ]
  },
  {
   "cell_type": "markdown",
   "id": "0207bc07",
   "metadata": {},
   "source": [
    "Se genera un array y se llama a la funcion creada:"
   ]
  },
  {
   "cell_type": "code",
   "execution_count": 32,
   "id": "1aae4136",
   "metadata": {},
   "outputs": [
    {
     "name": "stdout",
     "output_type": "stream",
     "text": [
      "[[34 42 19 14 34]\n",
      " [33 10 26  7  1]]\n",
      "Suma de las columnas):  [67 52 45 21 35]\n",
      "Suma de las filas:  [143  77]\n"
     ]
    }
   ],
   "source": [
    "array_2d = np.random.randint(50, size=(2,5)) #genera array con numeros aleatorios\n",
    "print(array_2d) #imprime array para ver los numeros generados\n",
    "totales(array_2d) #se llama a la funcion que imprime los totales"
   ]
  },
  {
   "cell_type": "markdown",
   "id": "043d157f",
   "metadata": {},
   "source": [
    "## Ejercicio 4\n",
    "Implementa manualmente una función que calcule el coeficiente de correlación. Infórmate sobre sus usos e interpretación."
   ]
  },
  {
   "cell_type": "markdown",
   "id": "058fe344",
   "metadata": {},
   "source": [
    "El coeficiente de correlacion es una ecuacion estadistica que se usa para determinar el grado de fuerza entre la relacion lineal de dos variables. Es decir, mediante su analisis se puede interpretar si una variable tiene relacion con otra, por ejemplo si cambian los valores de *'x'* tambien cambiaran los valores de *'y'*. "
   ]
  },
  {
   "cell_type": "code",
   "execution_count": 33,
   "id": "3a210154",
   "metadata": {},
   "outputs": [],
   "source": [
    "import math #importamos el paquete de math"
   ]
  },
  {
   "cell_type": "markdown",
   "id": "64e961f5",
   "metadata": {},
   "source": [
    "Se define una funcion que contiene la formula de calculo del coeficiente de correlacion de pearson"
   ]
  },
  {
   "cell_type": "code",
   "execution_count": 51,
   "id": "526ddae6",
   "metadata": {},
   "outputs": [],
   "source": [
    "def coef_correlation(X, Y, n) :\n",
    "    sum_X = 0\n",
    "    sum_Y = 0\n",
    "    sum_XY = 0\n",
    "    squareSum_X = 0\n",
    "    squareSum_Y = 0\n",
    "      \n",
    "    #iteracion en los elementos del array para sumar cada uno dentro de una variable, despues sumar ambos array y \n",
    "    #por ultimo calcular el cuadrado de la suma\n",
    "    i = 0\n",
    "    while i < n :\n",
    "        # suma de elementos en array X.\n",
    "        sum_X = sum_X + X[i]\n",
    "          \n",
    "        # suma de los elementos en array Y.\n",
    "        sum_Y = sum_Y + Y[i]\n",
    "          \n",
    "        # suma de X[i] * Y[i].\n",
    "        sum_XY = sum_XY + X[i] * Y[i]\n",
    "          \n",
    "        # suma del cuadrado de los elementos del array\n",
    "        squareSum_X = squareSum_X + X[i] * X[i]\n",
    "        squareSum_Y = squareSum_Y + Y[i] * Y[i]\n",
    "          \n",
    "        i = i + 1\n",
    "       \n",
    "    # formula para calcular la correlacion:\n",
    "    corr = (float)(n * sum_XY - sum_X * sum_Y)/((float)(math.sqrt((n * squareSum_X - sum_X * sum_X)* (n * squareSum_Y - sum_Y * sum_Y))))\n",
    "    return corr"
   ]
  },
  {
   "cell_type": "code",
   "execution_count": 63,
   "id": "ccec608e",
   "metadata": {},
   "outputs": [
    {
     "name": "stdout",
     "output_type": "stream",
     "text": [
      "[0.59670183 0.4377197  0.87511156 0.61627581 0.73517649 0.91855213\n",
      " 0.06120893] \n",
      " [0.90188849 0.15881538 0.8196785  0.84133614 0.22926473 0.55667429\n",
      " 0.08355668]\n",
      "El coeficiende de correlacion es:0.571\n"
     ]
    }
   ],
   "source": [
    "X = np.random.rand(7) #crea un array de numeros hasta el 7\n",
    "Y = np.random.rand(7) #crea un array de numeros hasta el 7\n",
    "print(X,'\\n', Y)\n",
    "\n",
    "#calcular longitud del array\n",
    "n = len(X)\n",
    "  \n",
    "# Llamado a la funcion de calculo para la correlacion (con 3 decimales): \n",
    "print ('El coeficiende de correlacion es:''{0:.3f}'.format(coef_correlation(X, Y, n)))"
   ]
  },
  {
   "cell_type": "markdown",
   "id": "c8c58582",
   "metadata": {},
   "source": [
    "Del resultado obtenido, se puede observar que entre el conjunto de valores tenemos una correlacion positiva y moderada entre ellos.\n",
    "\n",
    "- Cuando una correlacion es mayor que *'0'*, se considera positiva. Entre mas cercano sea el coeficiente a 1, mayor es la relacion entre las variables, siendo 1 una relación lineal positiva perfecta. \n",
    "- Por el contrario, si es menor que *'0'* indica que la correlacion es negativa, osea que se asocian en sentido inverso (cuando el valor en una sea muy alto, el valor en la otra será muy bajo). si el valor es exactamente -1, significa que es correlación negativa perfecta.\n",
    "- Cuando el valor es igual que *'0'* significa que no existe relacion entre las variables."
   ]
  }
 ],
 "metadata": {
  "kernelspec": {
   "display_name": "Python 3",
   "language": "python",
   "name": "python3"
  },
  "language_info": {
   "codemirror_mode": {
    "name": "ipython",
    "version": 3
   },
   "file_extension": ".py",
   "mimetype": "text/x-python",
   "name": "python",
   "nbconvert_exporter": "python",
   "pygments_lexer": "ipython3",
   "version": "3.8.8"
  }
 },
 "nbformat": 4,
 "nbformat_minor": 5
}
